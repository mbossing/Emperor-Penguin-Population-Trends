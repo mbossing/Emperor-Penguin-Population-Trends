{
 "cells": [
  {
   "cell_type": "markdown",
   "id": "bcbcf0a0",
   "metadata": {},
   "source": [
    "# Emperor Penguin Population Estimation\n",
    "\n",
    "### Mark B. & Katharine P. \n",
    "### GGS416: Satellite Image Analysis "
   ]
  },
  {
   "cell_type": "markdown",
   "id": "361be9c2",
   "metadata": {},
   "source": [
    "    This notebook is used as a guide on how to collect Sentinel-2 imagery and extracted colonies. Input data was replaced with filler for the user to change. Comments above lines indicate the \"what\" and \"why\" of code. Comments below a line of code represent the index at which the data should be formated.\n",
    "    \n",
    "The code is seperated into four sections:\n",
    "        \n",
    "#### 1. Image Collection\n",
    "    Before images are used for analysis, data needs to be formatted into geojson in order for the Sentinel API to package the correct information. Preliminary observations on Sentinel Playground are going to be needed before collection. Antarctica is a dynamic ecosystem that produces satellite imagery containing more clouds than snow. Finding date ranges that hold limited cloud cover is vital for collection. \n",
    "    \n",
    "#### 2. Image Correction\n",
    "    Images recieved from the Sentinel API are almost always oversaturated. Correcting the pixel values by a factor of 10,000 creates observable images. Numpy is introduced in this section and lays the tracks of its subsequential use throughout the code. Additionally, the contributions of rasterio are displayed in this section.\n",
    "    \n",
    "#### 3. Image Clipping\n",
    "    Clipping the images requires two variables, an image and a bounding box. Our corrected images are saved as GEOTIFFS, meaning the coordinate refernce system (CRS) is implemented throughout each value in an array. The bounding box must conincide with the shape, values, and CRS of the GEOTIFF.\n",
    "    \n",
    "#### 4. Image Extraction\n",
    "    Guano can be extracted based on the pixel values of the array. Unfortunately, Python is incapable of seamless visualization. Through visual applications (ENVI, ArcGIS Pro), preliminary observations were made to determine the values of guano. A new image is made in which pixels are represented as either 0 or 1. 0 indictes no guano while 1 indicates likely areas of guano. A stipulation was created to determine if pixels were a 1 or a 0. Summing the pixels then allows for population estimation. This, however, is not in the code since there are multiple ways this can be done."
   ]
  },
  {
   "cell_type": "markdown",
   "id": "0d2361fd",
   "metadata": {},
   "source": [
    "## Image Collection"
   ]
  },
  {
   "cell_type": "code",
   "execution_count": null,
   "id": "7492969e",
   "metadata": {},
   "outputs": [],
   "source": [
    "# These are all the packages needed for conducting this code.\n",
    "# Additionally, a Copernicus account is required to pull images from the API. \n",
    "import folium\n",
    "import geopandas as gpd\n",
    "from geojson import Point, Feature, FeatureCollection, dump\n",
    "from shapely.geometry import Point, Polygon\n",
    "import pandas as pd\n",
    "import sentinelsat\n",
    "from sentinelsat import SentinelAPI, read_geojson, geojson_to_wkt\n",
    "from datetime import date\n",
    "from matplotlib import pyplot as plt\n",
    "import numpy as np\n",
    "from rasterio.plot import show\n",
    "from rasterio.features import shapes\n",
    "from numpy import count_nonzero\n",
    "import os\n",
    "from rasterio.mask import mask\n",
    "api = SentinelAPI('user', 'password','https://scihub.copernicus.eu/dhus') \n",
    "# 'user' and 'password' indicate your Copernicus username and password."
   ]
  },
  {
   "cell_type": "code",
   "execution_count": null,
   "id": "35c0c6b5",
   "metadata": {},
   "outputs": [],
   "source": [
    "# Data is placed into a list so inputs are straightforward.\n",
    "data = [LONG,LAT,'DATEstart','DATEend','COLONYNAME'] \n",
    "# LONG, LAT are the coordinates of the site (this does not need to be in meters). \n",
    "# DATEstart and DATEend collectinvely state the date range of images.\n",
    "# COLONYNAME is the name you wish to give the image.\n",
    "\n",
    "# Function used for collection\n",
    "def collecting(x):\n",
    "    \n",
    "    # Create bounding box so the entire colony is within the pulled image.\n",
    "    # The values used to add and subtract are arbitrary. They are simply used to create a rough estimation of the study area.\n",
    "        xmin= x[0] - 0.014438\n",
    "        ymin= x[1] - 0.014438\n",
    "        xmax= x[0] + 0.014438\n",
    "        ymax= x[1] + 0.014438\n",
    "        features = []\n",
    "        polygon = Polygon([[xmin,\n",
    "                  ymin],\n",
    "                  [xmin,\n",
    "                  ymax],\n",
    "                  [xmax,\n",
    "                  ymax],\n",
    "                  [xmin,\n",
    "                  ymax],\n",
    "                  [xmin,\n",
    "                  ymin]])\n",
    "    \n",
    "    # Appended features into an empty list that was created above. \n",
    "        features.append(Feature(geometry=polygon, properties={\"Area\": f\"{x[4]}\"}))\n",
    "        feature_collection = FeatureCollection(features)\n",
    "        \n",
    "    # Write the GEOJSON of colony from the now filled list.\n",
    "    # The information needs to be formatted into a GEOJSON so the API can understand what needs to be pulled.\n",
    "        with open('{}.geojson'.format(x[4]), 'w') as f:\n",
    "           dump(feature_collection, f)\n",
    "        \n",
    "    # Import GEOJSON \n",
    "        boundsdata = r'C:{}.geojson'.format(x[4])\n",
    "        footprint = geojson_to_wkt(read_geojson(boundsdata))\n",
    "        \n",
    "    # Place GEOJSON into Sentinel's api and with the criteria of the product.\n",
    "        products = api.query(footprint,\n",
    "                     date = (x[2],x[3]),\n",
    "                     platformname = 'Sentinel-2',\n",
    "                     processinglevel = 'Level-2A',\n",
    "                     cloudcoverpercentage = (0, 20),\n",
    "                     limit=5)\n",
    "    # Footprint indicates the area of interest (set before).\n",
    "    # Date describes the date range for images to be pulled.\n",
    "    # Platformname determines the satellite from which images will be pulled.\n",
    "    # Processinglevel sets the amout of post processing an image has experienced. More info can be found: https://earthdata.nasa.gov/collaborate/open-data-services-and-software/data-information-policy/data-levels . \n",
    "    # Cloudcoverpercentage describes the range of acceptable cloud cover an image may hold.\n",
    "    # Limit sets the maximum amount of images that can be pulled.\n",
    "    \n",
    "        api.download_all(products)\n",
    "# The file will be downloaded into your directory.\n",
    "collecting(data)"
   ]
  },
  {
   "cell_type": "markdown",
   "id": "897ba81b",
   "metadata": {},
   "source": [
    "## Image Correction"
   ]
  },
  {
   "cell_type": "code",
   "execution_count": null,
   "id": "fbf2745c",
   "metadata": {},
   "outputs": [],
   "source": [
    "# Call bands 8,3, and 2.\n",
    "# These are the bands needed to distinguish guano and snow.\n",
    "image_filenameB02 = \"XXXXB02_10m.jp2\"\n",
    "image_filenameB03 = \"XXXXB03_10m.jp2\"\n",
    "image_filenameB08 = \"XXXXB08_10m.jp2\"\n",
    "# XXX will be replaced with the name of the entire .jp2 image. XXX and 10m is consistent through all 3 images with the B0x changing with each.\n",
    "# Example filepath: S2B_MSIL2A_20181223T174429_N0211_R069_T04CEV_20181223T212653.SAFE\\GRANULE\\L2A_T04CEV_A009390_20181223T174446\\IMG_DATA\\R10m\n",
    "\n",
    "# Rasterio allows the user to read raster-type files.\n",
    "my_imageB02 = rasterio.open(image_filenameB02)\n",
    "my_imageB03 = rasterio.open(image_filenameB03)\n",
    "my_imageB08 = rasterio.open(image_filenameB08)"
   ]
  },
  {
   "cell_type": "code",
   "execution_count": null,
   "id": "d0f04422",
   "metadata": {},
   "outputs": [],
   "source": [
    "# Each respective band pulls its arrays.\n",
    "blue = my_imageB02.read(1)\n",
    "green = my_imageB03.read(1)\n",
    "nir = my_imageB08.read(1)\n",
    "\n",
    "# Scale values for display purposes.\n",
    "# The raw images are incapable of visually representing the study areas. When corrected by a factor of 10,000, the images become legiable.\n",
    "def scale(band): \n",
    "    return band /10000\n",
    "\n",
    "# Run each band through the above function.\n",
    "blue = scale(my_imageB02.read(1))\n",
    "green = scale(my_imageB03.read(1))\n",
    "nir = scale(my_imageB08.read(1))"
   ]
  },
  {
   "cell_type": "code",
   "execution_count": null,
   "id": "816d8e89",
   "metadata": {},
   "outputs": [],
   "source": [
    "# The numpy package is used primarily for its mechanics use in multidimensional arrays.\n",
    "# Stack bands in desired order\n",
    "x = np.dstack((nir, green, blue))\n",
    "\n",
    "# pypplot allows us to observe our image on the go.\n",
    "show(x)"
   ]
  },
  {
   "cell_type": "code",
   "execution_count": null,
   "id": "d271ab84",
   "metadata": {},
   "outputs": [],
   "source": [
    "# Again, numpy's ability to alter arrays is showcased.\n",
    "# Reorder axis for writing\n",
    "guano_reordered = np.moveaxis(x, [0, 1, 2], [1, 2, 0])\n",
    "guano_reordered.shape"
   ]
  },
  {
   "cell_type": "code",
   "execution_count": null,
   "id": "7de1582b",
   "metadata": {},
   "outputs": [],
   "source": [
    "# Just asrasterio can read an image, here, writing an image is displayed\n",
    "# Write .tif of the 8,3, and 2 combination\n",
    "with rasterio.open(\n",
    "    'COLONYNAME.tif',                           \n",
    "    'w',                                            \n",
    "    driver='GTiff',                       #specification of export driver type          \n",
    "    height=guano_reordered.shape[1],      #specification of height             \n",
    "    width=guano_reordered.shape[2],       #specification of width            \n",
    "    count=guano_reordered.shape[0],       #specification of bands           \n",
    "    dtype=guano_reordered.dtype,          #specification of datatype           \n",
    "    crs=my_imageB02.profile['crs'],       #specification of coordinate reference system             \n",
    "    transform=my_imageB02.profile['transform']   #specification of transformation      \n",
    "    ) as my_raster_writer:\n",
    "        my_raster_writer.write(guano_reordered)    \n",
    "# The file will write itself into your directory\n",
    "\n",
    "print('Finished writing guano_reordered')"
   ]
  },
  {
   "cell_type": "markdown",
   "id": "20c17bca",
   "metadata": {},
   "source": [
    "## Image Clipping"
   ]
  },
  {
   "cell_type": "code",
   "execution_count": null,
   "id": "b2ec37e1",
   "metadata": {},
   "outputs": [],
   "source": [
    "# Import rasterio and file.\n",
    "import rasterio\n",
    "\n",
    "# image_file must be reset to the corrected image.\n",
    "image_file = \"COLONYNAME.tif\"\n",
    "# COLONYNAME indicates the corrected image.\n",
    "\n",
    "# Again, no processing can be conducted if the image is not read using rasterio.\n",
    "my_image = rasterio.open(image_file)\n",
    "my_image"
   ]
  },
  {
   "cell_type": "code",
   "execution_count": null,
   "id": "9b8989b0",
   "metadata": {},
   "outputs": [],
   "source": [
    "# This is useful for clarifying the indexing and bounds of the image.\n",
    "# For example: If your xmin (in the following block) is not greater than xminb then your study area then your study area is not completely within the image.\n",
    "xminb, yminb, xmaxb, ymaxb = my_image.bounds\n",
    "\n",
    "xminb, yminb, xmaxb, ymaxb"
   ]
  },
  {
   "cell_type": "code",
   "execution_count": null,
   "id": "31fa26ec",
   "metadata": {},
   "outputs": [],
   "source": [
    "# Using rasterio (more specifically, its mask function), clipping will be conducted.\n",
    "with rasterio.open(image_file) as img:\n",
    "    clipped, transform = mask(img, my_geojson, crop=True)\n",
    "\n",
    "# Determine the coordinates of the desired study area.\n",
    "# This should be known before running the code.\n",
    "# The easiest way is to put it into a visual application (i.e. ArcGIS, QGIS, ENVI)\n",
    "# Ensure that the input coordinates are in meters since those are the units of the projected coordinate system.\n",
    "xmin = XXXX\n",
    "ymin = XXXX\n",
    "xmax = XXXX\n",
    "ymax = XXXX\n",
    "\n",
    "# Again, create the GEOJSON of the footprint \n",
    "my_geojson = [\n",
    "    {\n",
    "        \"type\": \"Polygon\",\n",
    "        \"coordinates\": [  \n",
    "          [\n",
    "            [\n",
    "              xmin,\n",
    "              ymin\n",
    "            ],\n",
    "            [\n",
    "              xmax,\n",
    "              ymin\n",
    "            ],\n",
    "            [\n",
    "              xmax,\n",
    "              ymax\n",
    "            ],\n",
    "            [\n",
    "              xmin,\n",
    "              ymax\n",
    "            ],\n",
    "            [\n",
    "              xmin,\n",
    "              ymin\n",
    "            ]\n",
    "          ],\n",
    "        ]\n",
    "      }\n",
    "    ]\n",
    "\n",
    "# Above, we set the meta data of transform and clipped to equal each other. The combination of the two contribute to the clipped image's meta data.\n",
    "meta = my_image.meta.copy()\n",
    "meta.update(\n",
    "    {\n",
    "    \n",
    "        \"transform\": transform,\n",
    "        \"height\":clipped.shape[1],\n",
    "        \"width\":clipped.shape[2]\n",
    "    }\n",
    ")\n",
    "\n",
    "# Write out the new .tif\n",
    "with rasterio.open('CLIPPEDCOLONYNAME.tif', 'w', **meta) as dst:\n",
    "    dst.write(clipped)"
   ]
  },
  {
   "cell_type": "markdown",
   "id": "8e6a9d9b",
   "metadata": {},
   "source": [
    "## Image Extraction"
   ]
  },
  {
   "cell_type": "code",
   "execution_count": null,
   "id": "87c5879f",
   "metadata": {},
   "outputs": [],
   "source": [
    "# Use rasterio to open the clipped image\n",
    "my_image = rasterio.open('images/clipped/clippedXXX2021.tif')\n",
    "# A great way to organize the data is to put the clipped images into their own file\n",
    "\n",
    "# Display image on the go\n",
    "show(my_image.read())"
   ]
  },
  {
   "cell_type": "code",
   "execution_count": 1,
   "id": "7a9acc62",
   "metadata": {},
   "outputs": [
    {
     "ename": "NameError",
     "evalue": "name 'my_image' is not defined",
     "output_type": "error",
     "traceback": [
      "\u001b[1;31m---------------------------------------------------------------------------\u001b[0m",
      "\u001b[1;31mNameError\u001b[0m                                 Traceback (most recent call last)",
      "Input \u001b[1;32mIn [1]\u001b[0m, in \u001b[0;36m<module>\u001b[1;34m\u001b[0m\n\u001b[1;32m----> 1\u001b[0m nir \u001b[38;5;241m=\u001b[39m \u001b[43mmy_image\u001b[49m\u001b[38;5;241m.\u001b[39mread(\u001b[38;5;241m1\u001b[39m)\n\u001b[0;32m      2\u001b[0m green \u001b[38;5;241m=\u001b[39m my_image\u001b[38;5;241m.\u001b[39mread(\u001b[38;5;241m2\u001b[39m)\n\u001b[0;32m      3\u001b[0m blue \u001b[38;5;241m=\u001b[39m my_image\u001b[38;5;241m.\u001b[39mread(\u001b[38;5;241m3\u001b[39m)\n",
      "\u001b[1;31mNameError\u001b[0m: name 'my_image' is not defined"
     ]
    }
   ],
   "source": [
    "# Since we stacked the three bands into a numpy array earlier, we can use rasterio to parse out the data again.\n",
    "nir = my_image.read(1)\n",
    "green = my_image.read(2)\n",
    "blue = my_image.read(3)\n",
    "\n",
    "# For us to be able analyze the pixels, the datatype needs to be specified.\n",
    "# Since the data needs to be specified in each array, we use numpy and assign float32.\n",
    "nir = np.float32(nir)\n",
    "green = np.float32(green)\n",
    "blue = np.float32(blue)"
   ]
  },
  {
   "cell_type": "code",
   "execution_count": null,
   "id": "53c47839",
   "metadata": {},
   "outputs": [],
   "source": [
    "# A matching array of the study area needs to be created.\n",
    "guano_index = np.zeros(blue.shape)\n",
    "\n",
    "# The empty array is then given a stipulation that needs to be satisfied before a value of 1 is assigned to a pixel.\n",
    "# Values are based on the three read images in the above cell.\n",
    "guano_index[(nir > green) &  (green > blue) & (blue < 1)] = 1\n",
    "# This stipulation was determined by observations made in ENVI. \n",
    "# More often then not, pixels that clearly indicated areas of guano had the highest reflectance in the NIR band (8)\n",
    "# It would then decrease linearly when moving towards the green (3) and blue (2) band.\n",
    "# An additional statement was needed to differentiate shadows and guano.\n",
    "# Shadows and guano had the most variance within the 8 and 3 bands. 2 would then be used to seperate these features.\n",
    "# Guano was almost always below a value of 1 within band 2.\n",
    "\n",
    "plt.imshow(guano_index)\n",
    "plt.colorbar(shrink=.7)\n",
    "\n",
    "# count_nonzero counts the total values that do not equal 0.\n",
    "# This then gives us the total pixels containing guano.\n",
    "count_nonzero(guano_index, axis = None)"
   ]
  },
  {
   "cell_type": "code",
   "execution_count": null,
   "id": "bfee7717",
   "metadata": {},
   "outputs": [],
   "source": [
    "# Reiterating the process in the correction, numpy was used to reorder the axis of the array.\n",
    "x = np.dstack((guano_index)) \n",
    "guano_reordered = np.moveaxis(x, [0, 1, 2], [1, 2, 0])\n",
    "guano_reordered.shape\n",
    "guano_rereordered = np.moveaxis(guano_reordered,[0,1,2],[1,0,2])\n",
    "guano_rereordered.shape"
   ]
  },
  {
   "cell_type": "code",
   "execution_count": null,
   "id": "9e2c6125",
   "metadata": {},
   "outputs": [],
   "source": [
    "# Finally, export the file as a tif\n",
    "with rasterio.open(\n",
    "    'NAME.tif',    #NAME is yours to decide                       \n",
    "    'w',                                            \n",
    "    driver='GTiff',                                     #specification of export driver type\n",
    "    height=guano_rereordered.shape[1],                  #specification of height\n",
    "    width=guano_rereordered.shape[2],                   #specification of width\n",
    "    count=guano_rereordered.shape[0],                   #specification of bands\n",
    "    dtype=guano_rereordered.dtype,                      #specification of datatype\n",
    "    crs=my_image.profile['crs'],                    #specification of coordinate reference system\n",
    "    transform=my_image.profile['transform']         #specification of transformation\n",
    "    ) as my_raster_writer:\n",
    "        my_raster_writer.write(guano_rereordered)       \n",
    "\n",
    "print('Finished writing reordered guano')"
   ]
  }
 ],
 "metadata": {
  "kernelspec": {
   "display_name": "Python 3 (ipykernel)",
   "language": "python",
   "name": "python3"
  },
  "language_info": {
   "codemirror_mode": {
    "name": "ipython",
    "version": 3
   },
   "file_extension": ".py",
   "mimetype": "text/x-python",
   "name": "python",
   "nbconvert_exporter": "python",
   "pygments_lexer": "ipython3",
   "version": "3.10.2"
  }
 },
 "nbformat": 4,
 "nbformat_minor": 5
}
